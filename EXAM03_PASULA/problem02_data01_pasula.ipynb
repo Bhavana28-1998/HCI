{
 "cells": [
  {
   "cell_type": "code",
   "execution_count": 1,
   "metadata": {},
   "outputs": [],
   "source": [
    "#Name: Bhavana Pasula \n",
    "#Course: Human Computer Interaction\n",
    "#Exam03: Problem 02\n",
    "#Worked on file name: Exam03_data_01\n",
    "\n",
    "\n",
    "import numpy as x\n",
    "import pandas as y\n",
    "import matplotlib.pyplot as plt\n",
    "\n",
    "header_list = [\"one\"]\n",
    "\n",
    "DesignA_time=y.read_csv('data_01/A/Time/task_time.csv',names =header_list)\n",
    "\n",
    "DesignB_time=y.read_csv('data_01/B/Time/task_time.csv',names =header_list)\n"
   ]
  },
  {
   "cell_type": "code",
   "execution_count": 2,
   "metadata": {},
   "outputs": [],
   "source": [
    "DA_time=DesignA_time.one.str.split(expand=True,)\n",
    "DAint_time= DA_time.astype(str).astype(int)\n",
    "DAstd_time=DAint_time.std()\n",
    "\n",
    "DB_time=DesignB_time.one.str.split(expand=True,)\n",
    "DBint_time= DB_time.astype(str).astype(int)\n",
    "DBstd_time=DBint_time.std()"
   ]
  },
  {
   "cell_type": "code",
   "execution_count": 3,
   "metadata": {},
   "outputs": [
    {
     "data": {
      "text/plain": [
       "array([10.41274964, 15.24428802, 19.48962851])"
      ]
     },
     "execution_count": 3,
     "metadata": {},
     "output_type": "execute_result"
    }
   ],
   "source": [
    "Astdarr= DAstd_time.to_numpy()\n",
    "\n",
    "Astdarr"
   ]
  },
  {
   "cell_type": "code",
   "execution_count": 4,
   "metadata": {},
   "outputs": [
    {
     "data": {
      "text/plain": [
       "array([122.60619799,  29.5044906 ,  32.77433847])"
      ]
     },
     "execution_count": 4,
     "metadata": {},
     "output_type": "execute_result"
    }
   ],
   "source": [
    "Bstdarr=DBstd_time.to_numpy()\n",
    "\n",
    "Bstdarr"
   ]
  },
  {
   "cell_type": "code",
   "execution_count": 5,
   "metadata": {},
   "outputs": [
    {
     "data": {
      "text/plain": [
       "array(['design A', 'design A', 'design A'], dtype='<U8')"
      ]
     },
     "execution_count": 5,
     "metadata": {},
     "output_type": "execute_result"
    }
   ],
   "source": [
    "preferred_design_time= x.where(Astdarr < Bstdarr, 'design A', 'design B')\n",
    "\n",
    "preferred_design_time"
   ]
  },
  {
   "cell_type": "code",
   "execution_count": 6,
   "metadata": {},
   "outputs": [],
   "source": [
    "header_list = [\"one\"]\n",
    "\n",
    "DesignA_error=y.read_csv('data_01/A/Error/task_error.csv',names =header_list)\n",
    "\n",
    "DesignB_error=y.read_csv('data_01/B/Error/task_error.csv',names =header_list)\n",
    "\n",
    "\n",
    "\n",
    "DA_error=DesignA_error.one.str.split(expand=True,)\n",
    "DAint_error= DA_error.astype(str).astype(int)\n",
    "DAmean_error=DAint_error.mean()\n",
    "\n",
    "DB_error=DesignB_error.one.str.split(expand=True,)\n",
    "DBint_error= DB_error.astype(str).astype(int)\n",
    "DBmean_error=DBint_error.mean()\n"
   ]
  },
  {
   "cell_type": "code",
   "execution_count": 7,
   "metadata": {},
   "outputs": [
    {
     "data": {
      "text/plain": [
       "array([3.03466667, 4.014     , 4.02333333])"
      ]
     },
     "execution_count": 7,
     "metadata": {},
     "output_type": "execute_result"
    }
   ],
   "source": [
    "Ameanarr= DAmean_error.to_numpy()\n",
    "Ameanarr"
   ]
  },
  {
   "cell_type": "code",
   "execution_count": 8,
   "metadata": {},
   "outputs": [
    {
     "data": {
      "text/plain": [
       "array([2.992     , 1.00733333, 3.98733333])"
      ]
     },
     "execution_count": 8,
     "metadata": {},
     "output_type": "execute_result"
    }
   ],
   "source": [
    "Bmeanarr= DBmean_error.to_numpy()\n",
    "Bmeanarr"
   ]
  },
  {
   "cell_type": "code",
   "execution_count": 9,
   "metadata": {},
   "outputs": [
    {
     "data": {
      "text/plain": [
       "array(['design B', 'design B', 'design B'], dtype='<U8')"
      ]
     },
     "execution_count": 9,
     "metadata": {},
     "output_type": "execute_result"
    }
   ],
   "source": [
    "preferred_design_error= x.where(Ameanarr < Bmeanarr, 'design A', 'design B')\n",
    "\n",
    "preferred_design_error"
   ]
  },
  {
   "cell_type": "code",
   "execution_count": 10,
   "metadata": {},
   "outputs": [
    {
     "data": {
      "text/plain": [
       "['design B', 'design B', 'design B']"
      ]
     },
     "execution_count": 10,
     "metadata": {},
     "output_type": "execute_result"
    }
   ],
   "source": [
    "preferred_design_final = [0 for i in range(len(preferred_design_error))]\n",
    "\n",
    "for n in range(len(preferred_design_time)):\n",
    "    if preferred_design_time [n] == preferred_design_error[n]:\n",
    "        preferred_design_final[n] = preferred_design_time[n]\n",
    "    else:\n",
    "        preferred_design_final[n]= preferred_design_error[n]\n",
    "        \n",
    "preferred_design_final"
   ]
  },
  {
   "cell_type": "code",
   "execution_count": 11,
   "metadata": {},
   "outputs": [],
   "source": [
    "#Preferred design for task j is perferred_design_final[j-1]"
   ]
  },
  {
   "cell_type": "code",
   "execution_count": 12,
   "metadata": {},
   "outputs": [],
   "source": [
    "A=0\n",
    "B=0\n",
    "\n",
    "for n in range(len(preferred_design_final)):\n",
    "    if preferred_design_final[n] == \"design A\":\n",
    "          A = A+1\n",
    "    else:\n",
    "          B =B+1"
   ]
  },
  {
   "cell_type": "code",
   "execution_count": 13,
   "metadata": {},
   "outputs": [
    {
     "data": {
      "text/plain": [
       "3"
      ]
     },
     "execution_count": 13,
     "metadata": {},
     "output_type": "execute_result"
    }
   ],
   "source": [
    "len(preferred_design_final)"
   ]
  },
  {
   "cell_type": "code",
   "execution_count": 14,
   "metadata": {},
   "outputs": [
    {
     "data": {
      "text/plain": [
       "0"
      ]
     },
     "execution_count": 14,
     "metadata": {},
     "output_type": "execute_result"
    }
   ],
   "source": [
    "A"
   ]
  },
  {
   "cell_type": "code",
   "execution_count": 15,
   "metadata": {},
   "outputs": [
    {
     "data": {
      "text/plain": [
       "3"
      ]
     },
     "execution_count": 15,
     "metadata": {},
     "output_type": "execute_result"
    }
   ],
   "source": [
    "B"
   ]
  },
  {
   "cell_type": "code",
   "execution_count": 16,
   "metadata": {},
   "outputs": [
    {
     "name": "stdout",
     "output_type": "stream",
     "text": [
      "design B is preferred\n"
     ]
    }
   ],
   "source": [
    "if A>B:\n",
    "    print(\"design A is preferred\")\n",
    "else:\n",
    "    print(\"design B is preferred\")"
   ]
  }
 ],
 "metadata": {
  "kernelspec": {
   "display_name": "Python 3",
   "language": "python",
   "name": "python3"
  },
  "language_info": {
   "codemirror_mode": {
    "name": "ipython",
    "version": 3
   },
   "file_extension": ".py",
   "mimetype": "text/x-python",
   "name": "python",
   "nbconvert_exporter": "python",
   "pygments_lexer": "ipython3",
   "version": "3.8.5"
  }
 },
 "nbformat": 4,
 "nbformat_minor": 4
}
